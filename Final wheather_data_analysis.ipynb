{
 "cells": [
  {
   "cell_type": "markdown",
   "metadata": {
    "colab": {
     "base_uri": "https://localhost:8080/"
    },
    "id": "D8_Nk1kj54tq",
    "outputId": "e245ec3b-cf15-471f-c261-eca063aebef5"
   },
   "source": [
    "### Imports "
   ]
  },
  {
   "cell_type": "code",
   "execution_count": null,
   "metadata": {
    "id": "pO-Nlq_06BBm",
    "pycharm": {
     "is_executing": true
    }
   },
   "outputs": [],
   "source": [
    "import pandas as pd\n",
    "import numpy as np\n",
    "import matplotlib.pyplot as plt\n",
    "import seaborn as sns \n",
    "import scipy as sc\n",
    "import sklearn as skl\n",
    "plt.style.use('ggplot')"
   ]
  },
  {
   "cell_type": "markdown",
   "metadata": {},
   "source": [
    "### Read Data"
   ]
  },
  {
   "cell_type": "code",
   "execution_count": null,
   "metadata": {
    "colab": {
     "base_uri": "https://localhost:8080/",
     "height": 354
    },
    "id": "uYY50kE46BH8",
    "outputId": "1b8aca47-0264-49c4-dbd2-622ce11a835c",
    "pycharm": {
     "is_executing": true
    }
   },
   "outputs": [],
   "source": [
    "data = pd.read_csv(r\"C:\\Users\\Admin\\Dropbox\\My PC (DESKTOP-7FDR3DB)\\Downloads\\weatherHistory.csv\")\n",
    "datac = data.copy()\n",
    "data.head()"
   ]
  },
  {
   "cell_type": "code",
   "execution_count": null,
   "metadata": {
    "id": "biS_yNv_6Yo9",
    "pycharm": {
     "is_executing": true
    }
   },
   "outputs": [],
   "source": [
    "columns = data.columns.to_list()"
   ]
  },
  {
   "cell_type": "markdown",
   "metadata": {
    "id": "8QMMDzTF6SaB"
   },
   "source": [
    "### checking dtypes of columns  "
   ]
  },
  {
   "cell_type": "code",
   "execution_count": null,
   "metadata": {
    "colab": {
     "base_uri": "https://localhost:8080/"
    },
    "id": "NldPMcOm8EsO",
    "outputId": "c66ceb86-92cb-47c4-9df7-7ecc03b1be37",
    "pycharm": {
     "is_executing": true
    }
   },
   "outputs": [],
   "source": [
    "data.dtypes"
   ]
  },
  {
   "cell_type": "code",
   "execution_count": null,
   "metadata": {
    "id": "SoNd7WJB6BKc",
    "pycharm": {
     "is_executing": true
    }
   },
   "outputs": [],
   "source": [
    "obj_columns = data.iloc[:, list(data.dtypes == 'object')].columns.to_list()\n",
    "num_columns = data.iloc[:, list(data.dtypes != 'object')].columns.to_list()\n",
    "obj_columns.remove('Formatted Date')"
   ]
  },
  {
   "cell_type": "markdown",
   "metadata": {
    "id": "H_r0OMKsIHpB"
   },
   "source": [
    "### Unique Values"
   ]
  },
  {
   "cell_type": "code",
   "execution_count": null,
   "metadata": {
    "colab": {
     "base_uri": "https://localhost:8080/"
    },
    "id": "z7rGLZ7LIICc",
    "outputId": "03a1dc59-399a-43df-ca3f-43c67d8f2ab0",
    "pycharm": {
     "is_executing": true
    }
   },
   "outputs": [],
   "source": [
    "data[obj_columns].nunique().to_dict()"
   ]
  },
  {
   "cell_type": "markdown",
   "metadata": {
    "id": "58pWbcWf8zEU"
   },
   "source": [
    "### Checking for Missing values"
   ]
  },
  {
   "cell_type": "code",
   "execution_count": null,
   "metadata": {
    "colab": {
     "base_uri": "https://localhost:8080/"
    },
    "id": "ihbByOQy6BMv",
    "outputId": "36bfc42b-bb82-4707-f33a-0107d2c2b7f6",
    "pycharm": {
     "is_executing": true
    }
   },
   "outputs": [],
   "source": [
    "data.isnull().sum()"
   ]
  },
  {
   "cell_type": "markdown",
   "metadata": {
    "id": "Ug3VEH6d9dWJ"
   },
   "source": [
    "there is 517 missing values in precip type which is very small compared to over data set so will drop them."
   ]
  },
  {
   "cell_type": "code",
   "execution_count": null,
   "metadata": {
    "colab": {
     "base_uri": "https://localhost:8080/"
    },
    "id": "ALqu2mn46BPN",
    "outputId": "9109528d-2edd-4022-87cf-25fdd77f7865",
    "pycharm": {
     "is_executing": true
    }
   },
   "outputs": [],
   "source": [
    "print('before shape :', data.shape)\n",
    "data.dropna(inplace=True) \n",
    "datac = data.copy()\n",
    "print('after shape :', data.shape)\n"
   ]
  },
  {
   "cell_type": "markdown",
   "metadata": {
    "id": "Tax-FMC4_Vhc"
   },
   "source": [
    "### Manupalation in date data"
   ]
  },
  {
   "cell_type": "code",
   "execution_count": null,
   "metadata": {
    "id": "ReZkQVMf6BR0",
    "pycharm": {
     "is_executing": true
    }
   },
   "outputs": [],
   "source": [
    "data['date'] = data['Formatted Date'].apply(lambda x: np.datetime64(x.split('.000')[0])).dt.date\n",
    "data['hour'] = data['Formatted Date'].apply(lambda x: np.datetime64(x.split('.000')[0])).dt.hour\n",
    "data['month'] = data['Formatted Date'].apply(lambda x: np.datetime64(x.split('.000')[0])).dt.month\n",
    "data['year'] = data['Formatted Date'].apply(lambda x: np.datetime64(x.split('.000')[0])).dt.year\n",
    "data.drop(['Formatted Date'], axis=1, inplace=True)"
   ]
  },
  {
   "cell_type": "code",
   "execution_count": null,
   "metadata": {
    "colab": {
     "base_uri": "https://localhost:8080/",
     "height": 354
    },
    "id": "-WexQ9Kx6BUY",
    "outputId": "4c658eb0-61f4-40db-9b21-b6e16d549123",
    "pycharm": {
     "is_executing": true
    }
   },
   "outputs": [],
   "source": [
    "data = data[['year', 'month', 'hour', 'date']+num_columns+obj_columns]\n",
    "data = data.sort_values(by=['year', 'month', 'date'])\n",
    "datac = data.copy()\n",
    "data.head()"
   ]
  },
  {
   "cell_type": "code",
   "execution_count": null,
   "metadata": {
    "colab": {
     "base_uri": "https://localhost:8080/"
    },
    "id": "eLeWRVmZ6BXX",
    "outputId": "c97bcfe2-5698-442d-dcb7-abe7a98e751d",
    "pycharm": {
     "is_executing": true
    }
   },
   "outputs": [],
   "source": [
    "years = list(data['year'].unique())\n",
    "for y in years: \n",
    "  print(y, ' :')\n",
    "  for m in range(1,13):\n",
    "    n = data[(data['year'] == y) & (data['month'] == m)].shape[0]\n",
    "    print(f'   {m} : {n} records.')"
   ]
  },
  {
   "cell_type": "markdown",
   "metadata": {
    "id": "Mec6syO2k9tY"
   },
   "source": [
    "### Scale data"
   ]
  },
  {
   "cell_type": "code",
   "execution_count": null,
   "metadata": {
    "id": "DHOFrWicm010",
    "pycharm": {
     "is_executing": true
    }
   },
   "outputs": [],
   "source": [
    "from sklearn.preprocessing import MinMaxScaler\n",
    "scaler = []\n",
    "\n",
    "scaler = MinMaxScaler()\n",
    "data[num_columns] = scaler.fit_transform(data[num_columns].values)\n",
    "\n"
   ]
  },
  {
   "cell_type": "markdown",
   "metadata": {
    "id": "-QiQIoPEUM5D"
   },
   "source": [
    "### Distribution of Numeric columns over year"
   ]
  },
  {
   "cell_type": "code",
   "execution_count": null,
   "metadata": {
    "pycharm": {
     "is_executing": true
    }
   },
   "outputs": [],
   "source": []
  },
  {
   "cell_type": "code",
   "execution_count": null,
   "metadata": {
    "id": "G3O226wDJyg3",
    "pycharm": {
     "is_executing": true
    }
   },
   "outputs": [],
   "source": [
    "import plotly.express as px\n",
    "pd.options.plotting.backend = \"plotly\"\n",
    "from plotly.subplots import make_subplots"
   ]
  },
  {
   "cell_type": "code",
   "execution_count": null,
   "metadata": {
    "colab": {
     "base_uri": "https://localhost:8080/",
     "height": 1000
    },
    "id": "B2GjQeqJ6BZ-",
    "outputId": "324e8d08-8720-4d18-e715-b9e25116c6bd",
    "pycharm": {
     "is_executing": true
    }
   },
   "outputs": [],
   "source": [
    "#f, axs = make_subplots(len(years), len(num_columns)))\n",
    "for i,y in enumerate(years):\n",
    "    f = data[data['year']==y][num_columns].plot(kind = 'hist', bins=13, facet_col=\"variable\", title=str(y))\n",
    "    f.show()"
   ]
  },
  {
   "cell_type": "code",
   "execution_count": null,
   "metadata": {
    "colab": {
     "base_uri": "https://localhost:8080/",
     "height": 1000
    },
    "id": "a6qbvndNRw6q",
    "outputId": "3b1c724f-0ef6-40c5-9264-8799001464d7",
    "pycharm": {
     "is_executing": true
    }
   },
   "outputs": [],
   "source": [
    "#f, axs = make_subplots(len(years), len(num_columns)))\n",
    "for i,c in enumerate(num_columns):\n",
    "    f = data[[c, 'year']].plot(kind = 'box', x='year', y= c)#, title=str(y))\n",
    "    f.show()"
   ]
  },
  {
   "cell_type": "markdown",
   "metadata": {
    "id": "vNITESNJOt8H"
   },
   "source": [
    "### statisticle change over year"
   ]
  },
  {
   "cell_type": "code",
   "execution_count": null,
   "metadata": {
    "pycharm": {
     "is_executing": true
    }
   },
   "outputs": [],
   "source": []
  },
  {
   "cell_type": "code",
   "execution_count": null,
   "metadata": {
    "colab": {
     "base_uri": "https://localhost:8080/",
     "height": 1000
    },
    "id": "lJYtaINPo0oY",
    "outputId": "98b05580-6743-4d2d-d603-bb28808ff90d",
    "pycharm": {
     "is_executing": true
    }
   },
   "outputs": [],
   "source": [
    "dd=[]\n",
    "for y in years: \n",
    "  d = data[data['year']==y][num_columns].describe()\n",
    "  d = d.drop(['count'], axis=0)\n",
    "  d['year'] = y\n",
    "  dd.append(d)\n",
    "\n",
    "d = pd.concat(dd, axis=0)\n",
    "d = d.reset_index()\n",
    "d = d.groupby(['index','year']).sum()\n",
    "#f, axs = plt.subplots(1,4, figsize=(30,10))\n",
    "for i,p in enumerate(['std', 'min', 'mean', 'max']):\n",
    "  f = d.loc[p].plot(kind='bar', title=p)\n",
    "  #axs[i].set_title(p)\n",
    "  f.show()\n",
    "\n",
    "\n",
    "#f, axs = plt.subplots(1,3, figsize=(30,10))\n",
    "for i,p in enumerate(['25%', '50%', '75%']):\n",
    "  f = d.loc[p].plot(kind='bar', title=p)\n",
    "  f.show()\n",
    "\n",
    "\n"
   ]
  },
  {
   "cell_type": "markdown",
   "metadata": {
    "id": "qt2lbpiQluB8"
   },
   "source": [
    "### convering hourly data into daily data"
   ]
  },
  {
   "cell_type": "code",
   "execution_count": null,
   "metadata": {
    "id": "XwZvna1TM8GP",
    "pycharm": {
     "is_executing": true
    }
   },
   "outputs": [],
   "source": [
    "d = data.copy()\n",
    "num_d = d.groupby(['date'])[num_columns].mean()\n",
    "obj_d = d.groupby(['date'])[obj_columns].agg(lambda x: x.value_counts().index[0])"
   ]
  },
  {
   "cell_type": "code",
   "execution_count": null,
   "metadata": {
    "id": "bhTP45HV6BcU",
    "pycharm": {
     "is_executing": true
    }
   },
   "outputs": [],
   "source": [
    "daily_d = pd.concat([num_d, obj_d], axis=1)"
   ]
  },
  {
   "cell_type": "markdown",
   "metadata": {
    "id": "iSSJjEMAwz26"
   },
   "source": [
    "### Analysis of Summary of weather"
   ]
  },
  {
   "cell_type": "code",
   "execution_count": null,
   "metadata": {
    "colab": {
     "base_uri": "https://localhost:8080/"
    },
    "id": "yqbOx0ak6Be2",
    "outputId": "a1562e9a-cb3e-46ec-9d67-3ff6eb161007",
    "pycharm": {
     "is_executing": true
    }
   },
   "outputs": [],
   "source": [
    "data['Daily Summary'].unique()"
   ]
  },
  {
   "cell_type": "code",
   "execution_count": null,
   "metadata": {
    "id": "mQrnxYuh6Bhc",
    "pycharm": {
     "is_executing": true
    }
   },
   "outputs": [],
   "source": []
  },
  {
   "cell_type": "markdown",
   "metadata": {
    "id": "14hVjjJco_5a"
   },
   "source": [
    "1. is there any massive change in continuous data over day over year."
   ]
  },
  {
   "cell_type": "code",
   "execution_count": null,
   "metadata": {
    "id": "P5q5nbLL6Bkk",
    "pycharm": {
     "is_executing": true
    }
   },
   "outputs": [],
   "source": [
    "d = data.copy()\n",
    "std_num_day = d.groupby(['date'])[num_columns].std()\n",
    "#std_num_day = d.groupby(['date'])[obj_columns].std()\n",
    "std_num_day.index = pd.to_datetime(std_num_day.index, errors='coerce')"
   ]
  },
  {
   "cell_type": "code",
   "execution_count": null,
   "metadata": {
    "id": "MbsBXlGj6Bna",
    "pycharm": {
     "is_executing": true
    }
   },
   "outputs": [],
   "source": [
    "#std_num_day1  = std_num_day.groupby(pd.Grouper(freq='1M'))"
   ]
  },
  {
   "cell_type": "code",
   "execution_count": null,
   "metadata": {
    "colab": {
     "base_uri": "https://localhost:8080/",
     "height": 1000
    },
    "id": "VYQ4GIeP6Bp7",
    "outputId": "74c4cc2e-d71b-4629-d9f3-2701bef3a245",
    "pycharm": {
     "is_executing": true
    }
   },
   "outputs": [],
   "source": [
    "#xticks=[i.date() for i in list(pd.date_range(start='2006-01-01', end='2016-12-31', freq='M'))]\n",
    "std_num_day['year'] = pd. DatetimeIndex(std_num_day.index).year\n",
    "for c in num_columns:\n",
    "    f = std_num_day[[c, 'year']].plot(kind='line', color='year', title=c)\n",
    "    f.show()\n",
    "  #f, ax = plt.subplots(1,1,figsize=(50,10))\n",
    "  #plt.setp(ax, \n",
    "        #xticks=xticks)\n",
    "        \n",
    "  #ax.set_xlim(xticks[0], xticks[-1])\n",
    "  #f.suptitle(c)\n",
    "  \n",
    "    "
   ]
  },
  {
   "cell_type": "code",
   "execution_count": null,
   "metadata": {
    "id": "SXhqhigreSjy",
    "pycharm": {
     "is_executing": true
    }
   },
   "outputs": [],
   "source": []
  },
  {
   "cell_type": "markdown",
   "metadata": {
    "id": "q2F9LIIAfeTo"
   },
   "source": [
    "2. is there any massive change in continuous data over month over year."
   ]
  },
  {
   "cell_type": "code",
   "execution_count": null,
   "metadata": {
    "colab": {
     "base_uri": "https://localhost:8080/",
     "height": 397
    },
    "id": "_LfKWQg1d8JC",
    "outputId": "281ae9f2-5f27-439d-9ae0-133bc594d662",
    "pycharm": {
     "is_executing": true
    }
   },
   "outputs": [],
   "source": [
    "d = data.copy()\n",
    "d = d.groupby(['month','year'])[num_columns].describe()\n",
    "d.head()"
   ]
  },
  {
   "cell_type": "code",
   "execution_count": null,
   "metadata": {
    "id": "HNlq-Rr7rMN8",
    "pycharm": {
     "is_executing": true
    }
   },
   "outputs": [],
   "source": []
  },
  {
   "cell_type": "code",
   "execution_count": null,
   "metadata": {
    "colab": {
     "base_uri": "https://localhost:8080/",
     "height": 1000
    },
    "id": "zevP7HHpd8fz",
    "outputId": "4d9257f0-1033-41db-8208-24ae1a7d4959",
    "pycharm": {
     "is_executing": true
    }
   },
   "outputs": [],
   "source": [
    "for n in num_columns:\n",
    "  dd = d[n]\n",
    "\n",
    "  dd = dd.reset_index()\n",
    "  dd['month'] = dd['month'].astype('str')\n",
    "  dd['year'] = dd['year'].astype('str')\n",
    "  dd['month_year'] = dd['month']+' - '+dd['year']\n",
    "\n",
    "  px.line(dd, x='month_year', y=['mean',\t'std',\t'min',\t'25%',\t'50%',\t'75%',\t'max'], title=n).show()"
   ]
  },
  {
   "cell_type": "code",
   "execution_count": null,
   "metadata": {
    "id": "D3PKACR9d8i5",
    "pycharm": {
     "is_executing": true
    }
   },
   "outputs": [],
   "source": []
  },
  {
   "cell_type": "markdown",
   "metadata": {
    "id": "mO5qXEjpxt7U"
   },
   "source": [
    "3. categorical features analysis"
   ]
  },
  {
   "cell_type": "code",
   "execution_count": null,
   "metadata": {
    "colab": {
     "base_uri": "https://localhost:8080/"
    },
    "id": "sEPZWO-H6BsO",
    "outputId": "1ee81ebe-62e3-41e1-808c-44633141d994",
    "pycharm": {
     "is_executing": true
    }
   },
   "outputs": [],
   "source": [
    "obj_d.index = pd.to_datetime(obj_d.index)\n",
    "Precip_Type_df = pd.DataFrame(obj_d['Precip Type'])\n",
    "Summary_df = pd.DataFrame(obj_d['Summary'])\n",
    "Daily_Summary_df = pd.DataFrame(obj_d['Daily Summary'])\n",
    "\n",
    "obj_d_Precip_Type_month = pd.get_dummies(Precip_Type_df, prefix=[''], prefix_sep='').groupby(pd.Grouper(freq='1M')).sum()\n",
    "obj_d_Summary_month = pd.get_dummies(Summary_df, prefix=[''], prefix_sep='').groupby(pd.Grouper(freq='1M')).sum()\n",
    "obj_d_Daily_Summary_month = pd.get_dummies(Daily_Summary_df, prefix=[''], prefix_sep='').groupby(pd.Grouper(freq='1M')).sum()\n",
    "\n",
    "obj_d_Precip_Type_month['month'] = pd.to_datetime(obj_d_Precip_Type_month.index)\n",
    "obj_d_Precip_Type_month['month'] = obj_d_Precip_Type_month['month'].apply(lambda x: x.strftime('%B-%Y'))\n",
    "\n",
    "obj_d_Summary_month['month'] = pd.to_datetime(obj_d_Precip_Type_month.index)\n",
    "obj_d_Summary_month['month'] = obj_d_Summary_month['month'].apply(lambda x: x.strftime('%B-%Y'))\n",
    "\n",
    "\n",
    "obj_d_Daily_Summary_month['month'] = pd.to_datetime(obj_d_Precip_Type_month.index)\n",
    "obj_d_Daily_Summary_month['month'] = obj_d_Daily_Summary_month['month'].apply(lambda x: x.strftime('%B-%Y'))\n",
    "\n",
    "\n",
    "\n",
    "\n",
    "obj_d_Precip_Type_month = obj_d_Precip_Type_month.plot.line(x='month', y=list(Precip_Type_df['Precip Type'].unique()))\n",
    "obj_d_Summary_month = obj_d_Summary_month.plot.line(x='month', y=list(Summary_df['Summary'].unique()))\n",
    "obj_d_Daily_Summary_month = obj_d_Daily_Summary_month.plot.line(x='month', y=list(Daily_Summary_df['Daily Summary'].unique()))\n",
    "#obj_d_Summary_month = Summary_df\n",
    "#obj_d_Precip_Type_month = Daily_Summary_df"
   ]
  },
  {
   "cell_type": "code",
   "execution_count": null,
   "metadata": {
    "colab": {
     "base_uri": "https://localhost:8080/",
     "height": 1000
    },
    "id": "Rk8HCzMGCeYB",
    "outputId": "666d917f-8e16-48ec-af6b-f3a7a6a208aa",
    "pycharm": {
     "is_executing": true
    }
   },
   "outputs": [],
   "source": [
    "obj_d_Precip_Type_month.show(), obj_d_Summary_month.show(), obj_d_Daily_Summary_month.show()"
   ]
  },
  {
   "cell_type": "code",
   "execution_count": null,
   "metadata": {
    "id": "I_O5jpValLjO",
    "pycharm": {
     "is_executing": true
    }
   },
   "outputs": [],
   "source": []
  },
  {
   "cell_type": "markdown",
   "metadata": {
    "id": "lQu-1lMcZbnc"
   },
   "source": [
    "### Year Year categorical Analysis"
   ]
  },
  {
   "cell_type": "code",
   "execution_count": null,
   "metadata": {
    "colab": {
     "base_uri": "https://localhost:8080/"
    },
    "id": "_oVx9LGUcPYk",
    "outputId": "a4783aba-7021-499b-d8ed-aa4e0f1fd07c",
    "pycharm": {
     "is_executing": true
    }
   },
   "outputs": [],
   "source": [
    "obj_d.index = pd.to_datetime(obj_d.index)\n",
    "Precip_Type_df = pd.DataFrame(obj_d['Precip Type'])\n",
    "Summary_df = pd.DataFrame(obj_d['Summary'])\n",
    "Daily_Summary_df = pd.DataFrame(obj_d['Daily Summary'])\n",
    "\n",
    "obj_d_Precip_Type_year = pd.get_dummies(Precip_Type_df, prefix=[''], prefix_sep='').groupby(pd.Grouper(freq='1Y')).sum()\n",
    "obj_d_Summary_year = pd.get_dummies(Summary_df, prefix=[''], prefix_sep='').groupby(pd.Grouper(freq='1Y')).sum()\n",
    "obj_d_Daily_Summary_year = pd.get_dummies(Daily_Summary_df, prefix=[''], prefix_sep='').groupby(pd.Grouper(freq='1Y')).sum()\n",
    "\n",
    "obj_d_Precip_Type_year['month'] = pd.to_datetime(obj_d_Precip_Type_year.index)\n",
    "obj_d_Precip_Type_year['month'] = obj_d_Precip_Type_year['month'].apply(lambda x: x.strftime('%Y'))\n",
    "\n",
    "obj_d_Summary_year['month'] = pd.to_datetime(obj_d_Precip_Type_year.index)\n",
    "obj_d_Summary_year['month'] = obj_d_Summary_year['month'].apply(lambda x: x.strftime('%Y'))\n",
    "\n",
    "\n",
    "obj_d_Daily_Summary_year['month'] = pd.to_datetime(obj_d_Precip_Type_year.index)\n",
    "obj_d_Daily_Summary_year['month'] = obj_d_Daily_Summary_year['month'].apply(lambda x: x.strftime('%Y'))\n",
    "\n",
    "\n",
    "\n",
    "obj_d_Precip_Type_year = obj_d_Precip_Type_year.plot.line(x='month', y=list(Precip_Type_df['Precip Type'].unique()))\n",
    "obj_d_Summary_year = obj_d_Summary_year.plot.line(x='month', y=list(Summary_df['Summary'].unique()))\n",
    "obj_d_Daily_Summary_year = obj_d_Daily_Summary_year.plot.line(x='month', y=list(Daily_Summary_df['Daily Summary'].unique()))\n",
    "#obj_d_Summary_year = Summary_df\n",
    "#obj_d_Precip_Type_year = Daily_Summary_df"
   ]
  },
  {
   "cell_type": "code",
   "execution_count": null,
   "metadata": {
    "colab": {
     "base_uri": "https://localhost:8080/",
     "height": 1000
    },
    "id": "QVV_Ui7Kb7jE",
    "outputId": "9ba93f3a-fa1c-4dd8-8446-5c741ef1f1ab",
    "pycharm": {
     "is_executing": true
    }
   },
   "outputs": [],
   "source": [
    "obj_d_Precip_Type_year.show(), obj_d_Summary_year.show(), obj_d_Daily_Summary_year.show()"
   ]
  },
  {
   "cell_type": "code",
   "execution_count": null,
   "metadata": {
    "id": "yTvn82vGlPDj",
    "pycharm": {
     "is_executing": true
    }
   },
   "outputs": [],
   "source": [
    "d = data.copy()"
   ]
  },
  {
   "cell_type": "markdown",
   "metadata": {
    "id": "dTOz2wtJmqfC"
   },
   "source": [
    "### Categorical to continuous analysis"
   ]
  },
  {
   "cell_type": "markdown",
   "metadata": {
    "id": "p74lfvdCzd2R"
   },
   "source": [
    "#### Precip Typr to Numeric Analysis"
   ]
  },
  {
   "cell_type": "code",
   "execution_count": null,
   "metadata": {
    "pycharm": {
     "is_executing": true
    }
   },
   "outputs": [],
   "source": [
    "d = data.copy()\n",
    "d.index = pd.to_datetime(d['date'])\n",
    "d_num = d.groupby(pd.Grouper(freq='15D'))[num_columns].mean()\n",
    "d_obj = d.groupby(pd.Grouper(freq='15D'))[obj_columns].agg(lambda x: x.value_counts().index[0])\n",
    "d = pd.concat([d_num, d_obj], axis=1)\n",
    "d.reset_index(inplace=True)\n",
    "d['month_year'] = d['date'].apply(lambda x: x.strftime('%B-%Y'))\n",
    "d"
   ]
  },
  {
   "cell_type": "code",
   "execution_count": null,
   "metadata": {
    "colab": {
     "base_uri": "https://localhost:8080/",
     "height": 1000
    },
    "id": "vU-DkwaPpcbv",
    "outputId": "21d21126-3009-4912-bf71-bf44ed419282",
    "pycharm": {
     "is_executing": true
    }
   },
   "outputs": [],
   "source": [
    "precip_type_num = d.groupby('Precip Type')[num_columns+['month_year']]\n",
    "\n",
    "for n, d in precip_type_num:\n",
    "  px.line(d, x='month_year', y=num_columns, title=n).show()"
   ]
  },
  {
   "cell_type": "markdown",
   "metadata": {
    "id": "BrSmvcuiz_E0"
   },
   "source": [
    "#### Summary to Numeric Analysis"
   ]
  },
  {
   "cell_type": "code",
   "execution_count": null,
   "metadata": {
    "colab": {
     "base_uri": "https://localhost:8080/",
     "height": 1000
    },
    "id": "rc9PjI4vy8PR",
    "outputId": "eef334fe-118e-4ff1-d902-bce122ccfca3",
    "pycharm": {
     "is_executing": true
    }
   },
   "outputs": [],
   "source": [
    "\n",
    "precip_type_num = d.groupby('Summary')[num_columns+['month_year']]\n",
    "\n",
    "for n, d in precip_type_num:\n",
    "  px.line(d, x='month_year', y=num_columns, title=n).show()"
   ]
  },
  {
   "cell_type": "markdown",
   "metadata": {
    "id": "XcWMzRED0MT1"
   },
   "source": [
    "#### Daily Summary to Numeric Analysis"
   ]
  },
  {
   "cell_type": "code",
   "execution_count": null,
   "metadata": {
    "colab": {
     "base_uri": "https://localhost:8080/",
     "height": 1000
    },
    "id": "y7JqpIbG0SN1",
    "outputId": "3559e40d-9d7c-496b-f25b-408665abfc68",
    "pycharm": {
     "is_executing": true
    }
   },
   "outputs": [],
   "source": [
    "#d['month_year'] = data['date'].apply(lambda x: x.strftime('%B-%Y'))\n",
    "precip_type_num = d.groupby('Daily Summary')[num_columns+['month_year']]\n",
    "\n",
    "for n, d in precip_type_num:\n",
    "  px.line(d, x='month_year', y=num_columns, title=n).show()"
   ]
  },
  {
   "cell_type": "markdown",
   "metadata": {},
   "source": [
    "### Decompose Numeric columns"
   ]
  },
  {
   "cell_type": "code",
   "execution_count": null,
   "metadata": {},
   "outputs": [],
   "source": [
    "d = data.copy()\n",
    "d.index = pd.to_datetime(d['date'])\n",
    "dd_mean = d.resample('M').mean()"
   ]
  },
  {
   "cell_type": "code",
   "execution_count": null,
   "metadata": {},
   "outputs": [],
   "source": [
    "from statsmodels.tsa.seasonal import seasonal_decompose"
   ]
  },
  {
   "cell_type": "code",
   "execution_count": null,
   "metadata": {},
   "outputs": [],
   "source": [
    "plt.rcParams['figure.figsize'] = [20, 10]\n",
    "for col in num_columns:\n",
    "    r =seasonal_decompose(dd_mean[col], model='Additive', period=12)\n",
    "    r.plot()"
   ]
  },
  {
   "cell_type": "markdown",
   "metadata": {},
   "source": [
    "### Numeric Features Test"
   ]
  },
  {
   "cell_type": "code",
   "execution_count": null,
   "metadata": {},
   "outputs": [],
   "source": [
    "d = data.copy()\n",
    "d.index = pd.to_datetime(d['date'])\n",
    "print('before :', d.shape)\n",
    "dd_mean = d.resample('M').mean()\n",
    "dd_std = d.resample('M').std()\n",
    "print('after :', dd_std.shape)"
   ]
  },
  {
   "cell_type": "code",
   "execution_count": null,
   "metadata": {},
   "outputs": [],
   "source": [
    "dd_mean = dd_mean[num_columns]"
   ]
  },
  {
   "cell_type": "code",
   "execution_count": null,
   "metadata": {},
   "outputs": [],
   "source": [
    "dd_mean"
   ]
  },
  {
   "cell_type": "code",
   "execution_count": null,
   "metadata": {},
   "outputs": [],
   "source": [
    "# define Dickey-Fuller Test (DFT) function\n",
    "# Null is that unit root is present, rejection means likely stationary\n",
    "import statsmodels.tsa.stattools as ts\n",
    "from statsmodels.tsa.stattools import adfuller\n",
    "\n",
    "\n",
    "def dftest(timeseries):\n",
    "    dftest = ts.adfuller(timeseries,)\n",
    "    dfoutput = pd.Series(dftest[0:4], \n",
    "                         index=['Test Statistic','p-value','Lags Used','Observations Used'])\n",
    "    for key,value in dftest[4].items():\n",
    "        dfoutput['Critical Value (%s)'%key] = value\n",
    "    \n",
    "    if dfoutput['p-value'] <= 0.05:\n",
    "        print(f'{timeseries.name} The series is stationary')\n",
    "    else:\n",
    "        print(f'{timeseries.name} The series is NOT stationary')\n",
    "    \n",
    "    #Determing rolling statistics\n",
    "    rolmean = timeseries.rolling(window=12).mean()\n",
    "    rolstd = timeseries.rolling(window=12).std()\n",
    "\n",
    "    d = pd.concat([timeseries, rolmean, rolstd], axis=1)\n",
    "    s = timeseries.name\n",
    "    d.columns = [s, s+' rolling_mean', s+' rolling_std']\n",
    "    d.plot().update_layout(title=timeseries.name).show()\n"
   ]
  },
  {
   "cell_type": "code",
   "execution_count": null,
   "metadata": {},
   "outputs": [],
   "source": []
  },
  {
   "cell_type": "code",
   "execution_count": null,
   "metadata": {},
   "outputs": [],
   "source": [
    "dd_mean.dropna(axis=0, inplace=True)\n",
    "dd_std.dropna(axis=0, inplace=True)"
   ]
  },
  {
   "cell_type": "code",
   "execution_count": null,
   "metadata": {},
   "outputs": [],
   "source": [
    "for col in num_columns:\n",
    "    print(f'______________________________ {col} ________________________________')\n",
    "    dftest(dd_mean[col])\n",
    "    print()"
   ]
  },
  {
   "cell_type": "code",
   "execution_count": null,
   "metadata": {},
   "outputs": [],
   "source": [
    "import statsmodels.api as sm"
   ]
  },
  {
   "cell_type": "code",
   "execution_count": null,
   "metadata": {},
   "outputs": [],
   "source": [
    "# for determinr seaosnal order\n",
    "from statsmodels.graphics.tsaplots import plot_acf, plot_pacf\n",
    "import warnings\n",
    "warnings.filterwarnings(\"ignore\")\n",
    "for col in num_columns:\n",
    "# P \n",
    "    f,ax = plt.subplots(1, 2, figsize=(30,10))\n",
    "    plot_pacf(dd_mean[col], lags =12, ax=ax[0])\n",
    "    \n",
    "    \n",
    "# Q\n",
    "    plot_acf(dd_mean[col], lags =12, ax=ax[1])\n",
    "    f.suptitle(col, fontsize = 25)\n",
    "    f.show()\n",
    "  "
   ]
  },
  {
   "cell_type": "markdown",
   "metadata": {},
   "source": [
    "### Forecast for next year"
   ]
  },
  {
   "cell_type": "code",
   "execution_count": null,
   "metadata": {},
   "outputs": [],
   "source": [
    "#Introducing another model\n",
    "sar2 = sm.tsa.statespace.SARIMAX(dd_mean['Temperature (C)'].iloc[:90,], \n",
    "                                order=(3,1,1),\n",
    "                                seasonal_order=(12,1,8,12), \n",
    "                                trend='c').fit()"
   ]
  },
  {
   "cell_type": "code",
   "execution_count": null,
   "metadata": {},
   "outputs": [],
   "source": [
    "sar2.summary()"
   ]
  },
  {
   "cell_type": "code",
   "execution_count": null,
   "metadata": {},
   "outputs": [],
   "source": [
    "dd_mean['forecast'] = sar2.predict(start = 91, end= 150, dynamic=False)  \n",
    "px.line(dd_mean, y=['Temperature (C)', 'forecast'], title='Temperature Forecast').show()"
   ]
  },
  {
   "cell_type": "code",
   "execution_count": null,
   "metadata": {},
   "outputs": [],
   "source": []
  }
 ],
 "metadata": {
  "colab": {
   "collapsed_sections": [],
   "name": "wheather_data_analysis.ipynb",
   "provenance": []
  },
  "kernelspec": {
   "display_name": "Python 3",
   "language": "python",
   "name": "python3"
  },
  "language_info": {
   "codemirror_mode": {
    "name": "ipython",
    "version": 3
   },
   "file_extension": ".py",
   "mimetype": "text/x-python",
   "name": "python",
   "nbconvert_exporter": "python",
   "pygments_lexer": "ipython3",
   "version": "3.8.8"
  }
 },
 "nbformat": 4,
 "nbformat_minor": 1
}
